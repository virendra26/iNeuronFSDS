{
 "cells": [
  {
   "cell_type": "code",
   "execution_count": 15,
   "id": "0a084859",
   "metadata": {},
   "outputs": [
    {
     "name": "stdout",
     "output_type": "stream",
     "text": [
      "Input comma seperated D values \n",
      "100,150,180\n",
      "Values entered by you are \n",
      "[100, 150, 180]\n",
      "Area with given inputs is  [18.26, 22.36, 24.49]\n"
     ]
    }
   ],
   "source": [
    "#Question 1\n",
    "\n",
    "import math\n",
    "C=50\n",
    "H=30\n",
    "print('Input comma seperated D values ')\n",
    "lst = [int(item) for item in input().split(',')]\n",
    "print('Values entered by you are ')\n",
    "print(lst)\n",
    "\n",
    "area=[]\n",
    "for ele in lst:\n",
    "    area.append(round(math.sqrt((2*C*ele)/H),2))\n",
    "\n",
    "print('Area with given inputs is ',area)\n",
    "                "
   ]
  },
  {
   "cell_type": "code",
   "execution_count": 23,
   "id": "c378546f",
   "metadata": {},
   "outputs": [
    {
     "name": "stdout",
     "output_type": "stream",
     "text": [
      "Enter number of rows 3\n",
      "Enter number of columns 5\n",
      "[[0, 0, 0, 0, 0], [0, 1, 2, 3, 4], [0, 2, 4, 6, 8]]\n"
     ]
    }
   ],
   "source": [
    "#Question 2\n",
    "X=int(input('Enter number of rows '))\n",
    "Y=int(input('Enter number of columns '))\n",
    "arr=[[0]*Y,[0]*Y,[0]*Y]\n",
    "\n",
    "for i in range(X):\n",
    "    for j in range(Y):\n",
    "        arr[i][j]=i*j\n",
    "print(arr)        "
   ]
  },
  {
   "cell_type": "code",
   "execution_count": 31,
   "id": "1b44a10c",
   "metadata": {},
   "outputs": [
    {
     "name": "stdout",
     "output_type": "stream",
     "text": [
      "vir,patil,tuple,diction,list,python,change,name\n",
      "Your entered list is  ['vir', 'patil', 'tuple', 'diction', 'list', 'python', 'change', 'name']\n",
      "sorted list is  ['change', 'diction', 'list', 'name', 'patil', 'python', 'tuple', 'vir']\n"
     ]
    }
   ],
   "source": [
    "#Question 3\n",
    "lst = [(item) for item in input().split(',')]\n",
    "print('Your entered list is ',lst)\n",
    "print('sorted list is ',sorted(lst))"
   ]
  },
  {
   "cell_type": "code",
   "execution_count": 32,
   "id": "3632a66d",
   "metadata": {},
   "outputs": [
    {
     "name": "stdout",
     "output_type": "stream",
     "text": [
      "hello world and practice makes perfect and hello world again\n",
      "Your enter words are  ['hello', 'world', 'and', 'practice', 'makes', 'perfect', 'and', 'hello', 'world', 'again']\n",
      "Alphabetically sorted list of unique words is  ['again', 'and', 'hello', 'makes', 'perfect', 'practice', 'world']\n"
     ]
    }
   ],
   "source": [
    "#Question 4\n",
    "lst = [(item) for item in input().split(' ')]\n",
    "print('Your enter words are ',lst)\n",
    "\n",
    "p=set(lst)\n",
    "lst=list(p)\n",
    "lst=sorted(lst)\n",
    "\n",
    "print('Alphabetically sorted list of unique words is ',lst)"
   ]
  },
  {
   "cell_type": "code",
   "execution_count": 34,
   "id": "6f8bbf59",
   "metadata": {},
   "outputs": [
    {
     "name": "stdout",
     "output_type": "stream",
     "text": [
      "Input a string: what a match sachin scored 200 india scored 340\n",
      "Number of Letters 33\n",
      "Number of Digits 6\n"
     ]
    }
   ],
   "source": [
    "#Question 5\n",
    "str1 = input(\"Input a string: \")\n",
    "d=l=0\n",
    "for item in str1:\n",
    "    if item.isdigit():\n",
    "        d=d+1\n",
    "    elif item.isalpha():\n",
    "        l=l+1\n",
    "    else:\n",
    "        pass\n",
    "print(\"Number of Letters\", l)\n",
    "print(\"Number of Digits\", d)"
   ]
  },
  {
   "cell_type": "code",
   "execution_count": 39,
   "id": "970556e0",
   "metadata": {},
   "outputs": [
    {
     "name": "stdout",
     "output_type": "stream",
     "text": [
      "ABd1234@1,a F1#,2w3E*,2We3345\n",
      "Valid Password: ABd1234@1\n"
     ]
    }
   ],
   "source": [
    "#Question 6\n",
    "\n",
    "import re\n",
    "lst = [(item) for item in input().split(',')]\n",
    "\n",
    "for item in lst:\n",
    "    \n",
    "    password = True\n",
    "    while password:  \n",
    "        if (len(item)<6 or len(item)>12):\n",
    "            break\n",
    "        elif not re.search(\"[a-z]\",item):\n",
    "            break\n",
    "        elif not re.search(\"[0-9]\",item):\n",
    "            break\n",
    "        elif not re.search(\"[A-Z]\",item):\n",
    "            break\n",
    "        elif not re.search(\"[$#@]\",item):\n",
    "            break\n",
    "        elif re.search(\"\\s\",item):\n",
    "            break\n",
    "        else:\n",
    "            print(\"Valid Password:\",item)\n",
    "            password=False\n",
    "            break\n",
    "\n"
   ]
  },
  {
   "cell_type": "code",
   "execution_count": null,
   "id": "a1077217",
   "metadata": {},
   "outputs": [],
   "source": []
  }
 ],
 "metadata": {
  "kernelspec": {
   "display_name": "Python 3",
   "language": "python",
   "name": "python3"
  },
  "language_info": {
   "codemirror_mode": {
    "name": "ipython",
    "version": 3
   },
   "file_extension": ".py",
   "mimetype": "text/x-python",
   "name": "python",
   "nbconvert_exporter": "python",
   "pygments_lexer": "ipython3",
   "version": "3.8.8"
  }
 },
 "nbformat": 4,
 "nbformat_minor": 5
}
