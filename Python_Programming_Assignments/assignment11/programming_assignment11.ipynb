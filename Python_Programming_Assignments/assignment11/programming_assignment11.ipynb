{
 "cells": [
  {
   "cell_type": "code",
   "execution_count": 2,
   "id": "0135a989",
   "metadata": {},
   "outputs": [
    {
     "name": "stdout",
     "output_type": "stream",
     "text": [
      "enter value of k 3\n",
      "enter the string i love FSDS course of ineuron u guys are best\n",
      "love\n",
      "FSDS\n",
      "course\n",
      "ineuron\n",
      "guys\n",
      "best\n"
     ]
    }
   ],
   "source": [
    "#Question 1: words greater than given length\n",
    "\n",
    "k=int(input('enter value of k '))\n",
    "\n",
    "str1=input('enter the string ')\n",
    "\n",
    "l=str1.split()\n",
    "\n",
    "for ele in l:\n",
    "    if len(ele)>k:\n",
    "        print(ele)\n",
    "    "
   ]
  },
  {
   "cell_type": "code",
   "execution_count": 3,
   "id": "8222dd8f",
   "metadata": {},
   "outputs": [
    {
     "name": "stdout",
     "output_type": "stream",
     "text": [
      "enter value of i 8\n",
      "string 1 after removal of  8 character is   i love hat you guys do\n"
     ]
    }
   ],
   "source": [
    "#Question 2: removinng ith character from string\n",
    "str1=' i love what you guys do'\n",
    "\n",
    "i=int(input('enter value of i '))\n",
    "\n",
    "str2=str1.replace(str1[i],'')\n",
    "\n",
    "print('string 1 after removal of ',i,'character is ',str2)"
   ]
  },
  {
   "cell_type": "code",
   "execution_count": 8,
   "id": "e6007435",
   "metadata": {},
   "outputs": [
    {
     "name": "stdout",
     "output_type": "stream",
     "text": [
      "string joined with - looks like: i-like-FSDS-course\n"
     ]
    }
   ],
   "source": [
    "#Question 3: split and join the string\n",
    "\n",
    "a='i like FSDS course'\n",
    "\n",
    "l=a.split()\n",
    "\n",
    "b='-'.join(l)\n",
    "\n",
    "\n",
    "print('string joined with - looks like:',b)"
   ]
  },
  {
   "cell_type": "code",
   "execution_count": 11,
   "id": "88727cd9",
   "metadata": {},
   "outputs": [
    {
     "name": "stdout",
     "output_type": "stream",
     "text": [
      "enter the string:101010001\n",
      "given string is binary\n"
     ]
    }
   ],
   "source": [
    "#Question 4: binary string or not\n",
    "str1=input('enter the string:')\n",
    "\n",
    "if str1.count('0')+str1.count('1')==len(str1):\n",
    "    print('given string is binary')\n",
    "else:\n",
    "    print('given string is not binary ')\n",
    "        "
   ]
  },
  {
   "cell_type": "code",
   "execution_count": 20,
   "id": "db15921e",
   "metadata": {},
   "outputs": [
    {
     "name": "stdout",
     "output_type": "stream",
     "text": [
      "uncommon words from 2 strings are: {'contensts', 'the', 'your', 'this', 'i', 'love', 'take', 'of'}\n"
     ]
    }
   ],
   "source": [
    "#Question 5: uncommon words from 2 strings\n",
    "\n",
    "str1='take this course'\n",
    "str2='i love the contensts of your course'\n",
    "\n",
    "p=set(str1.split())\n",
    "q=set(str2.split())\n",
    "\n",
    "print('uncommon words from 2 strings are:',p.union(q)-p.intersection(q))"
   ]
  },
  {
   "cell_type": "code",
   "execution_count": 21,
   "id": "f7faa9c4",
   "metadata": {},
   "outputs": [
    {
     "name": "stdout",
     "output_type": "stream",
     "text": [
      "enter string hksdjghsghiureh\n",
      "duplicates in string are:\n",
      "h\n",
      "s\n",
      "g\n"
     ]
    }
   ],
   "source": [
    "#Question 6: find duplicate characters in string\n",
    "\n",
    "str1=input('enter string ')\n",
    "\n",
    "l=[]\n",
    "for ele in str1:\n",
    "    if ele not in l and str1.count(ele)>1:\n",
    "        l.append(ele)\n",
    "print('duplicates in string are:')\n",
    "for item in l:\n",
    "    print(item)\n",
    "        "
   ]
  },
  {
   "cell_type": "code",
   "execution_count": 23,
   "id": "0e4e3517",
   "metadata": {},
   "outputs": [
    {
     "name": "stdout",
     "output_type": "stream",
     "text": [
      "enter the string: djfhnjdh@@##\n",
      "string has special character \n"
     ]
    }
   ],
   "source": [
    "#Question 7:Special characters in string\n",
    "str1=input('enter the string: ')\n",
    "\n",
    "spe_char = \"!@#$%^&*()-+?_=,<>/\"\n",
    "\n",
    "if any(c in spe_char for c in str1):\n",
    "    print(\"string has special character \")\n",
    "else:\n",
    "    print(\"string does not have special character \")\n"
   ]
  },
  {
   "cell_type": "code",
   "execution_count": null,
   "id": "c50c190e",
   "metadata": {},
   "outputs": [],
   "source": []
  }
 ],
 "metadata": {
  "kernelspec": {
   "display_name": "Python 3",
   "language": "python",
   "name": "python3"
  },
  "language_info": {
   "codemirror_mode": {
    "name": "ipython",
    "version": 3
   },
   "file_extension": ".py",
   "mimetype": "text/x-python",
   "name": "python",
   "nbconvert_exporter": "python",
   "pygments_lexer": "ipython3",
   "version": "3.8.8"
  }
 },
 "nbformat": 4,
 "nbformat_minor": 5
}
