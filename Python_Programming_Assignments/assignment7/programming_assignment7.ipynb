{
 "cells": [
  {
   "cell_type": "code",
   "execution_count": 1,
   "id": "5882d931",
   "metadata": {},
   "outputs": [
    {
     "name": "stdout",
     "output_type": "stream",
     "text": [
      "sum of array elements is  42\n"
     ]
    }
   ],
   "source": [
    "#Question1: Sum of arrray\n",
    "\n",
    "arr=[5,6,7,3,4,8,9]\n",
    "\n",
    "asum=0\n",
    "\n",
    "for ele in arr:\n",
    "    asum+=ele\n",
    "print('sum of array elements is ',asum)    "
   ]
  },
  {
   "cell_type": "code",
   "execution_count": 3,
   "id": "efdc64d1",
   "metadata": {},
   "outputs": [
    {
     "name": "stdout",
     "output_type": "stream",
     "text": [
      "Largest element in array is  61\n"
     ]
    }
   ],
   "source": [
    "#Question2:Largest element in array\n",
    "\n",
    "arr=[1,3,5,2,4,8,9,26,4,61,3]\n",
    "\n",
    "num=arr[0]\n",
    "for i in range(len(arr)):\n",
    "    if arr[i]>num:\n",
    "        num=arr[i]\n",
    "print('Largest element in array is ',num)        "
   ]
  },
  {
   "cell_type": "code",
   "execution_count": 6,
   "id": "43a2e47e",
   "metadata": {},
   "outputs": [
    {
     "name": "stdout",
     "output_type": "stream",
     "text": [
      "array after rotation by 2 places is  [5, 7, 9, 2, 4, 8, 1, 3]\n"
     ]
    }
   ],
   "source": [
    "#Question3:Array rotation\n",
    "\n",
    "def arr_rot(arr,d):\n",
    "    l=len(arr)\n",
    "    arr[:]=arr[d:l]+arr[0:d]\n",
    "    return arr\n",
    "\n",
    "arr=[1,3,5,7,9,2,4,8]\n",
    "\n",
    "print('array after rotation by 2 places is ',arr_rot(arr,2))"
   ]
  },
  {
   "cell_type": "code",
   "execution_count": 9,
   "id": "f713d21b",
   "metadata": {},
   "outputs": [
    {
     "name": "stdout",
     "output_type": "stream",
     "text": [
      "40 27 83 42 63 57 12 "
     ]
    }
   ],
   "source": [
    "#Question4:Split array and add first part to end\n",
    "\n",
    "def Split_Array(arr, n, k):\n",
    "    for i in range(0, k):\n",
    "        y = arr[0]\n",
    "        for j in range(0, n-1):\n",
    "            arr[j] = arr[j + 1]\n",
    "\n",
    "        arr[n-1] = y\n",
    "\n",
    "arr = [12,40,27,83,42,63,57]\n",
    "n = len(arr)\n",
    "k = 1\n",
    "Split_Array(arr, n, k)\n",
    "\n",
    "for i in range(0, n):\n",
    "    print(arr[i], end = ' ')\n"
   ]
  },
  {
   "cell_type": "code",
   "execution_count": 11,
   "id": "a8e4dc1b",
   "metadata": {},
   "outputs": [
    {
     "name": "stdout",
     "output_type": "stream",
     "text": [
      "Is given array monotonic: True\n",
      "Is given array monotonic: False\n"
     ]
    }
   ],
   "source": [
    "#Question 5:monotonic array\n",
    "\n",
    "def monotone(arr):\n",
    "  \n",
    "    return (all(arr[i] <= arr[i + 1] for i in range(len(arr) - 1)) or\n",
    "            all(arr[i] >= arr[i + 1] for i in range(len(arr) - 1)))\n",
    "\n",
    "arr1=[1,3,4,5,6,9]\n",
    "arr2=[4,2,4,5,1,6]\n",
    "print('Is given array monotonic:',monotone(arr1))\n",
    "print('Is given array monotonic:',monotone(arr2))"
   ]
  },
  {
   "cell_type": "code",
   "execution_count": null,
   "id": "5a1a8ceb",
   "metadata": {},
   "outputs": [],
   "source": []
  }
 ],
 "metadata": {
  "kernelspec": {
   "display_name": "Python 3",
   "language": "python",
   "name": "python3"
  },
  "language_info": {
   "codemirror_mode": {
    "name": "ipython",
    "version": 3
   },
   "file_extension": ".py",
   "mimetype": "text/x-python",
   "name": "python",
   "nbconvert_exporter": "python",
   "pygments_lexer": "ipython3",
   "version": "3.8.8"
  }
 },
 "nbformat": 4,
 "nbformat_minor": 5
}
