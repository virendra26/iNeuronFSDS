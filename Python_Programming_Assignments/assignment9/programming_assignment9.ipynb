{
 "cells": [
  {
   "cell_type": "code",
   "execution_count": 2,
   "id": "88fbbb12",
   "metadata": {},
   "outputs": [
    {
     "name": "stdout",
     "output_type": "stream",
     "text": [
      "Enter any number 524\n",
      "is given number disarium : False\n"
     ]
    }
   ],
   "source": [
    "#Question1: Disarium number\n",
    "\n",
    "def disarium(num):\n",
    "    temp = 0\n",
    "    for i in range(len(str(num))):\n",
    "        temp += int(str(num)[i]) ** (i + 1)\n",
    "    return temp == num\n",
    "\n",
    "num=int(input('Enter any number '))\n",
    "print('is given number disarium :',disarium(num))\n"
   ]
  },
  {
   "cell_type": "code",
   "execution_count": 5,
   "id": "22774525",
   "metadata": {},
   "outputs": [
    {
     "name": "stdout",
     "output_type": "stream",
     "text": [
      "Disarium number between 1 to 100 are:\n",
      "1\n",
      "2\n",
      "3\n",
      "4\n",
      "5\n",
      "6\n",
      "7\n",
      "8\n",
      "9\n",
      "89\n"
     ]
    }
   ],
   "source": [
    "#Question 2: Disarium number between 1 to 100:\n",
    "\n",
    "print('Disarium number between 1 to 100 are:')\n",
    "for i in range(1,101):\n",
    "    temp=0\n",
    "    for j in range(len(str(i))):\n",
    "        temp+=int(str(i)[j])**(j+1)\n",
    "        if temp==i:\n",
    "            print(i)\n",
    "        "
   ]
  },
  {
   "cell_type": "code",
   "execution_count": 7,
   "id": "9c0085f3",
   "metadata": {},
   "outputs": [
    {
     "name": "stdout",
     "output_type": "stream",
     "text": [
      "Enter a number 7\n",
      "Given number is Happy? : True\n"
     ]
    }
   ],
   "source": [
    "#Question 3: Happy number\n",
    "\n",
    "def Happy_num(n):\n",
    "    past = set()\n",
    "    while n != 1:\n",
    "        n = sum(int(i)**2 for i in str(n))\n",
    "        if n in past:\n",
    "            return False\n",
    "        past.add(n)\n",
    "    return True\n",
    "n=int(input('Enter a number '))\n",
    "print('Given number is Happy? :',Happy_num(n))\n"
   ]
  },
  {
   "cell_type": "code",
   "execution_count": 4,
   "id": "6473351d",
   "metadata": {},
   "outputs": [
    {
     "name": "stdout",
     "output_type": "stream",
     "text": [
      "HAPPY NUMBERS WITHIN RANGE 1 to 100 ARE -\n",
      "1 7 10 13 19 23 28 31 32 44 49 68 70 79 82 86 91 94 97 100 "
     ]
    }
   ],
   "source": [
    "#Question 4: Happy numbers in interval 1 to 100\n",
    "\n",
    "def happy(num):\n",
    "    rem = 0\n",
    "    hnum = 0;    \n",
    "    while(num > 0):\n",
    "        rem = num%10;    \n",
    "        hnum = hnum + (rem*rem);    \n",
    "        num = num//10;\n",
    "    return hnum;\n",
    "\n",
    "\n",
    "print(\"HAPPY NUMBERS WITHIN RANGE 1 to 100 ARE -\")\n",
    "for i in range(1,101):\n",
    "    happy_num = i\n",
    "    while(happy_num != 1 and happy_num != 4):\n",
    "        happy_num = happy(happy_num)\n",
    "    if(happy_num == 1):\n",
    "        print(i,end=\" \")"
   ]
  },
  {
   "cell_type": "code",
   "execution_count": 6,
   "id": "86c8d5cc",
   "metadata": {},
   "outputs": [
    {
     "name": "stdout",
     "output_type": "stream",
     "text": [
      "Enter the Number to Check Harshad Number = 15\n",
      "The Sum of the Digits =  6\n",
      "its not a harshad number\n"
     ]
    }
   ],
   "source": [
    "#Question 5 Harshad Number\n",
    "num = int(input(\"Enter the Number to Check Harshad Number = \"))\n",
    "Sum = 0\n",
    "rem = 0\n",
    "\n",
    "temp = num\n",
    "while temp > 0:\n",
    "    rem = temp % 10\n",
    "    Sum = Sum + rem\n",
    "    temp = temp // 10\n",
    "\n",
    "print('The Sum of the Digits = ',Sum)\n",
    "\n",
    "if num % Sum == 0:\n",
    "    print(\"Given number is Harshad number\")\n",
    "else:\n",
    "    print(\"its not a harshad number\")"
   ]
  },
  {
   "cell_type": "code",
   "execution_count": 8,
   "id": "0c49aafa",
   "metadata": {},
   "outputs": [
    {
     "name": "stdout",
     "output_type": "stream",
     "text": [
      "Pronic numbers between 1 and 100: \n",
      "2\n",
      "6\n",
      "12\n",
      "20\n",
      "30\n",
      "42\n",
      "56\n",
      "72\n",
      "90\n"
     ]
    }
   ],
   "source": [
    "#Question 6:Pronic Number\n",
    "def PronicNumber(num):    \n",
    "    flag = False;    \n",
    "        \n",
    "    for i in range(1, num+1):    \n",
    "        if((i*(i+1)) == num):    \n",
    "            flag = True;    \n",
    "            break;    \n",
    "    return flag;    \n",
    "     \n",
    "print(\"Pronic numbers between 1 and 100: \");    \n",
    "for i in range(1, 101):    \n",
    "    if(PronicNumber(i)):    \n",
    "        print(i)  "
   ]
  },
  {
   "cell_type": "code",
   "execution_count": null,
   "id": "bf299c17",
   "metadata": {},
   "outputs": [],
   "source": []
  }
 ],
 "metadata": {
  "kernelspec": {
   "display_name": "Python 3",
   "language": "python",
   "name": "python3"
  },
  "language_info": {
   "codemirror_mode": {
    "name": "ipython",
    "version": 3
   },
   "file_extension": ".py",
   "mimetype": "text/x-python",
   "name": "python",
   "nbconvert_exporter": "python",
   "pygments_lexer": "ipython3",
   "version": "3.8.8"
  }
 },
 "nbformat": 4,
 "nbformat_minor": 5
}
