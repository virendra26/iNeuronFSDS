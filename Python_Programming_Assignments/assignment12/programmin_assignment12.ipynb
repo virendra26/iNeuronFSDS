{
 "cells": [
  {
   "cell_type": "code",
   "execution_count": 6,
   "id": "afaea9c6",
   "metadata": {},
   "outputs": [
    {
     "name": "stdout",
     "output_type": "stream",
     "text": [
      "all the values in dictionary: [1, 2, 4, 10, 7, 8, 11, 34, 44, 52, 31, 4, 6, 8, 10]\n",
      "Unique values in dictionary: [1, 2, 4, 6, 7, 8, 10, 11, 31, 34, 44, 52]\n"
     ]
    }
   ],
   "source": [
    "#Question1:Extract unique values dictionary values\n",
    "a = {'v' : [1,2,4,10],\n",
    "            'i' : [7,8,11,34],\n",
    "            'r' : [44,52,31],\n",
    "            'e' : [4,6,8,10]}\n",
    " \n",
    "\n",
    "l=[]  \n",
    "for i in a.keys():\n",
    "    l.extend(a[i])\n",
    "print('all the values in dictionary:',l)\n",
    "l=list(set(l))\n",
    "l.sort()\n",
    "print('Unique values in dictionary:',l)"
   ]
  },
  {
   "cell_type": "code",
   "execution_count": 7,
   "id": "49410599",
   "metadata": {},
   "outputs": [
    {
     "name": "stdout",
     "output_type": "stream",
     "text": [
      "Sum of all the values in dictionary is  232\n"
     ]
    }
   ],
   "source": [
    "#Question: Sum of all the items in dictionary\n",
    "a = {'v' : [1,2,4,10],\n",
    "            'i' : [7,8,11,34],\n",
    "            'r' : [44,52,31],\n",
    "            'e' : [4,6,8,10]}\n",
    " \n",
    "\n",
    "l=[]  \n",
    "for i in a.keys():\n",
    "    l.extend(a[i])\n",
    "Sum=0    \n",
    "for item in l:\n",
    "    Sum+=item\n",
    "print('Sum of all the values in dictionary is ',Sum)    "
   ]
  },
  {
   "cell_type": "code",
   "execution_count": 15,
   "id": "22c55936",
   "metadata": {},
   "outputs": [
    {
     "name": "stdout",
     "output_type": "stream",
     "text": [
      "merged dictionary is  {'v': 43, 'h': 56, 'a': 12, 'b': 45}\n"
     ]
    }
   ],
   "source": [
    "#Question 3: Mergin two dictionary\n",
    "\n",
    "dict1={'a':12,'b':45}\n",
    "dict2={'v':43,'h':56}\n",
    "\n",
    "dict2.update(dict1)\n",
    "\n",
    "print('merged dictionary is ',dict2)"
   ]
  },
  {
   "cell_type": "code",
   "execution_count": 18,
   "id": "51ccdb06",
   "metadata": {},
   "outputs": [
    {
     "name": "stdout",
     "output_type": "stream",
     "text": [
      "{1: 'Jan', 2: 'Feb', 3: 'March', 4: 'April', 5: 'May', 6: 'June'}\n"
     ]
    }
   ],
   "source": [
    "#Question 4:\n",
    "\n",
    "dict1 = {'month' : [1, 2, 3,4,5,6],\n",
    "             'name' : ['Jan', 'Feb', 'March','April','May','June']}\n",
    "\n",
    "res = dict(zip(dict1['month'], dict1['name']))\n",
    "\n",
    "print(res)\n",
    " "
   ]
  },
  {
   "cell_type": "code",
   "execution_count": 23,
   "id": "c586bcee",
   "metadata": {},
   "outputs": [
    {
     "name": "stdout",
     "output_type": "stream",
     "text": [
      "OrderedDict([('c', '3'), ('a', '1'), ('b', '2')])\n"
     ]
    }
   ],
   "source": [
    "#Question 5: Ordered dict\n",
    "from collections import OrderedDict\n",
    "d= OrderedDict([('a', '1'), ('b', '2')])\n",
    "d.update({'c':'3'})\n",
    "d.move_to_end('c', last=False)\n",
    "print(d)"
   ]
  },
  {
   "cell_type": "code",
   "execution_count": 27,
   "id": "97ee7754",
   "metadata": {},
   "outputs": [
    {
     "data": {
      "text/plain": [
       "'Pattern order is correct'"
      ]
     },
     "execution_count": 27,
     "metadata": {},
     "output_type": "execute_result"
    }
   ],
   "source": [
    "#Qusestion 6\n",
    "from collections import OrderedDict\n",
    "def order(str1, pat):\n",
    "    my_dict = OrderedDict.fromkeys(str1)\n",
    "    pl = 0\n",
    "    for key,value in my_dict.items():\n",
    "        if (key == pat[pl]):\n",
    "            pl = pl + 1\n",
    "\n",
    "        if (pl == (len(pat))):\n",
    "            return 'Pattern order is correct'\n",
    "\n",
    "    return 'Pattern order is nor correct'\n",
    "\n",
    "str1='Hello Python'\n",
    "pat='el'\n",
    "order(str1,pat)"
   ]
  },
  {
   "cell_type": "code",
   "execution_count": 30,
   "id": "df8aa67a",
   "metadata": {},
   "outputs": [
    {
     "name": "stdout",
     "output_type": "stream",
     "text": [
      "OrderedDict([('a', 10), ('c', 24), ('d', 89), ('e', 21), ('h', 4), ('x', 23), ('y', 'g')])\n"
     ]
    }
   ],
   "source": [
    "#Question 7 Sort dictionary\n",
    "from collections import OrderedDict\n",
    "\n",
    "dict1={'a':10,'c':24,'x':23,'h':4,'e':21,'y':'g','d':89}\n",
    "\n",
    "dict2=OrderedDict(sorted(dict1.items()))\n",
    "print(dict2)"
   ]
  },
  {
   "cell_type": "code",
   "execution_count": null,
   "id": "aeaa6c5c",
   "metadata": {},
   "outputs": [],
   "source": []
  }
 ],
 "metadata": {
  "kernelspec": {
   "display_name": "Python 3",
   "language": "python",
   "name": "python3"
  },
  "language_info": {
   "codemirror_mode": {
    "name": "ipython",
    "version": 3
   },
   "file_extension": ".py",
   "mimetype": "text/x-python",
   "name": "python",
   "nbconvert_exporter": "python",
   "pygments_lexer": "ipython3",
   "version": "3.8.8"
  }
 },
 "nbformat": 4,
 "nbformat_minor": 5
}
