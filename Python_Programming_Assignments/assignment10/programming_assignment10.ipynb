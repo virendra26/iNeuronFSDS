{
 "cells": [
  {
   "cell_type": "code",
   "execution_count": 2,
   "id": "688ad5b8",
   "metadata": {},
   "outputs": [
    {
     "name": "stdout",
     "output_type": "stream",
     "text": [
      "Sum of elements in given list is  45\n"
     ]
    }
   ],
   "source": [
    "#Q1:sum of elements in list\n",
    "\n",
    "l=[1,2,4,3,5,6,7,8,9]\n",
    "Sum=0\n",
    "\n",
    "for ele in l:\n",
    "    Sum+=ele\n",
    "\n",
    "print(\"Sum of elements in given list is \",Sum)"
   ]
  },
  {
   "cell_type": "code",
   "execution_count": 4,
   "id": "c4ace4d0",
   "metadata": {},
   "outputs": [
    {
     "name": "stdout",
     "output_type": "stream",
     "text": [
      "Sum of elements in given list is  362880\n"
     ]
    }
   ],
   "source": [
    "#Q2:Multiply elements in list\n",
    "\n",
    "l=[1,2,4,3,5,6,7,8,9]\n",
    "mult=1\n",
    "\n",
    "for ele in l:\n",
    "    mult*=ele\n",
    "\n",
    "print(\"Sum of elements in given list is \",mult)"
   ]
  },
  {
   "cell_type": "code",
   "execution_count": 5,
   "id": "48ea4285",
   "metadata": {},
   "outputs": [
    {
     "name": "stdout",
     "output_type": "stream",
     "text": [
      "Smallest number in list is  0\n"
     ]
    }
   ],
   "source": [
    "#Q3. Smallest in list\n",
    "\n",
    "l=[1,2,4,3,5,6,7,8,9,0,34]\n",
    "small=l[0]\n",
    "\n",
    "for i in range(len(l)):\n",
    "    if l[i]<small:\n",
    "        small=l[i]\n",
    "\n",
    "        \n",
    "print('Smallest number in list is ',small)"
   ]
  },
  {
   "cell_type": "code",
   "execution_count": 8,
   "id": "dbe0b9b5",
   "metadata": {},
   "outputs": [
    {
     "name": "stdout",
     "output_type": "stream",
     "text": [
      "largest number in list is  54\n"
     ]
    }
   ],
   "source": [
    "#Q4. largest in list\n",
    "\n",
    "l=[1,2,4,3,54,6,7,8,9,0,34]\n",
    "large=l[0]\n",
    "\n",
    "for i in range(len(l)):\n",
    "    if l[i]>large:\n",
    "        large=l[i]\n",
    "\n",
    "        \n",
    "print('largest number in list is ',large)"
   ]
  },
  {
   "cell_type": "code",
   "execution_count": 9,
   "id": "96d80957",
   "metadata": {},
   "outputs": [
    {
     "name": "stdout",
     "output_type": "stream",
     "text": [
      "second largest in list is   34\n"
     ]
    }
   ],
   "source": [
    "#Q5: second largest in list\n",
    "\n",
    "l=[1,2,4,3,54,6,7,8,9,0,34]\n",
    "\n",
    "l.sort()\n",
    "l.reverse()\n",
    "print('second largest in list is  ',l[1])"
   ]
  },
  {
   "cell_type": "code",
   "execution_count": 12,
   "id": "0e9baa03",
   "metadata": {},
   "outputs": [
    {
     "name": "stdout",
     "output_type": "stream",
     "text": [
      "give the N value= 4\n",
      "4 largest in list is   [54, 34, 9, 8]\n"
     ]
    }
   ],
   "source": [
    "#Q.6 N largest in list\n",
    "\n",
    "l=[1,2,4,3,54,6,7,8,9,0,34]\n",
    "n=int(input('give the N value= '))\n",
    "\n",
    "\n",
    "l.sort()\n",
    "l.reverse()\n",
    "print(n,'largest in list is  ',l[0:n])"
   ]
  },
  {
   "cell_type": "code",
   "execution_count": 14,
   "id": "be35bbe4",
   "metadata": {},
   "outputs": [
    {
     "name": "stdout",
     "output_type": "stream",
     "text": [
      "even numbers in the list are \n",
      "2\n",
      "4\n",
      "54\n",
      "6\n",
      "8\n",
      "0\n",
      "34\n"
     ]
    }
   ],
   "source": [
    "#Q.7 Even numbers in list\n",
    "\n",
    "l=[1,2,4,3,54,6,7,8,9,0,34]\n",
    "\n",
    "print('even numbers in the list are ')\n",
    "for ele in l:\n",
    "    if ele%2==0:\n",
    "        print(ele)"
   ]
  },
  {
   "cell_type": "code",
   "execution_count": 15,
   "id": "e432a859",
   "metadata": {},
   "outputs": [
    {
     "name": "stdout",
     "output_type": "stream",
     "text": [
      "odd numbers in the list are \n",
      "1\n",
      "3\n",
      "7\n",
      "9\n"
     ]
    }
   ],
   "source": [
    "#Q.8 Odd numbers in list\n",
    "\n",
    "l=[1,2,4,3,54,6,7,8,9,0,34]\n",
    "\n",
    "print('odd numbers in the list are ')\n",
    "for ele in l:\n",
    "    if ele%2!=0:\n",
    "        print(ele)"
   ]
  },
  {
   "cell_type": "code",
   "execution_count": 16,
   "id": "155fc16e",
   "metadata": {},
   "outputs": [
    {
     "name": "stdout",
     "output_type": "stream",
     "text": [
      "original list is :  [5, 6, [], 3, [], [], 9, 12, 34, 53]\n",
      "new list is :  [5, 6, 3, 9, 12, 34, 53]\n"
     ]
    }
   ],
   "source": [
    "#Q.9 remove empty list from list\n",
    "\n",
    "l = [5, 6, [], 3, [], [], 9,12,34,53]\n",
    " \n",
    "print('original list is : ',l )\n",
    " \n",
    "res = [item for item in l if item != []]\n",
    " \n",
    "print('new list is : ',res )"
   ]
  },
  {
   "cell_type": "code",
   "execution_count": 17,
   "id": "5cfe2928",
   "metadata": {},
   "outputs": [
    {
     "name": "stdout",
     "output_type": "stream",
     "text": [
      "Original list is  [3, 4, 2, 1, 5, 6, 7]\n",
      "Copied list is  [3, 4, 2, 1, 5, 6, 7]\n"
     ]
    }
   ],
   "source": [
    "#Q10. Cloning or coping\n",
    "\n",
    "l1=[3,4,2,1,5,6,7]\n",
    "\n",
    "l2=l1\n",
    "\n",
    "print('Original list is ',l1)\n",
    "print('Copied list is ',l2)"
   ]
  },
  {
   "cell_type": "code",
   "execution_count": 20,
   "id": "bd4899db",
   "metadata": {},
   "outputs": [
    {
     "name": "stdout",
     "output_type": "stream",
     "text": [
      "in the given list 3 occurs 4 times \n"
     ]
    }
   ],
   "source": [
    "#Q.11 Count occurence of element\n",
    "\n",
    "l1=[3,4,2,1,5,6,7,5,6,3,4,3,22,4,3]\n",
    "\n",
    "\n",
    "print('in the given list 3 occurs {}'.format(l1.count(3)),'times ')\n"
   ]
  },
  {
   "cell_type": "code",
   "execution_count": null,
   "id": "3332ceb8",
   "metadata": {},
   "outputs": [],
   "source": []
  }
 ],
 "metadata": {
  "kernelspec": {
   "display_name": "Python 3",
   "language": "python",
   "name": "python3"
  },
  "language_info": {
   "codemirror_mode": {
    "name": "ipython",
    "version": 3
   },
   "file_extension": ".py",
   "mimetype": "text/x-python",
   "name": "python",
   "nbconvert_exporter": "python",
   "pygments_lexer": "ipython3",
   "version": "3.8.8"
  }
 },
 "nbformat": 4,
 "nbformat_minor": 5
}
