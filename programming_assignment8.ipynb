{
 "cells": [
  {
   "cell_type": "code",
   "execution_count": 1,
   "id": "ac018bb2",
   "metadata": {},
   "outputs": [
    {
     "name": "stdout",
     "output_type": "stream",
     "text": [
      "[5, 11, 4]\n",
      "[7, 5, 9]\n",
      "[16, 15, 18]\n"
     ]
    }
   ],
   "source": [
    "#Question1: Addition of matrices\n",
    "\n",
    "\n",
    "A = [[1,2,3],\n",
    "    [4 ,5,6],\n",
    "    [8,8,9]]\n",
    "\n",
    "B = [[4,9,1],\n",
    "    [3,0,3],\n",
    "    [8,7,9]]\n",
    "\n",
    "res = [[0,0,0],\n",
    "         [0,0,0],\n",
    "         [0,0,0]]\n",
    "\n",
    "for i in range(len(A)):\n",
    "    for j in range(len(A[0])):\n",
    "        res[i][j] = A[i][j] + B[i][j]\n",
    "\n",
    "for r in res:\n",
    "    print(r)"
   ]
  },
  {
   "cell_type": "code",
   "execution_count": 2,
   "id": "9b0876de",
   "metadata": {},
   "outputs": [
    {
     "name": "stdout",
     "output_type": "stream",
     "text": [
      "[323, 96, 49]\n",
      "[1257, 511, 140]\n",
      "[2591, 1011, 326]\n"
     ]
    }
   ],
   "source": [
    "#Question 2: Multiply 2 matrices\n",
    "\n",
    "\n",
    "A = [[1,7,3],\n",
    "    [41 ,15,6],\n",
    "    [71 ,28,19]]\n",
    "\n",
    "B = [[15,8,1],\n",
    "    [26,7,3],\n",
    "    [42,13,9]]\n",
    "\n",
    "res = [[0,0,0],\n",
    "         [0,0,0],\n",
    "         [0,0,0]]\n",
    "\n",
    "for i in range(len(B)):\n",
    "    for j in range(len(B[0])):\n",
    "        for k in range(len(B)):\n",
    "            res[i][j] += A[i][k] * B[k][j]\n",
    "\n",
    "for r in res:\n",
    "    print(r)"
   ]
  },
  {
   "cell_type": "code",
   "execution_count": 3,
   "id": "5fb8c5b4",
   "metadata": {},
   "outputs": [
    {
     "name": "stdout",
     "output_type": "stream",
     "text": [
      "[2, 44, 37]\n",
      "[7, 15, 81]\n"
     ]
    }
   ],
   "source": [
    "#Question3: Transpose of matrics\n",
    "\n",
    "A = [[2,7],\n",
    "    [44 ,15],\n",
    "    [37 ,81]]\n",
    "\n",
    "res = [[0,0,0],\n",
    "         [0,0,0]]\n",
    "\n",
    "for i in range(len(A)):\n",
    "    for j in range(len(A[0])):\n",
    "        res[j][i] = A[i][j]\n",
    "\n",
    "for r in res:\n",
    "    print(r)"
   ]
  },
  {
   "cell_type": "code",
   "execution_count": 6,
   "id": "9e21ca0f",
   "metadata": {},
   "outputs": [
    {
     "name": "stdout",
     "output_type": "stream",
     "text": [
      "Enter a string I Love FSDS course of ineuron\n",
      "Your sorted string is \n",
      "course\n",
      "fsds\n",
      "i\n",
      "ineuron\n",
      "love\n",
      "of\n"
     ]
    }
   ],
   "source": [
    "#Question4: Sorting of words\n",
    "\n",
    "str1 = input('Enter a string ')\n",
    "\n",
    "\n",
    "items = [item.lower() for item in str1.split()]\n",
    "\n",
    "items.sort()\n",
    "\n",
    "\n",
    "print(\"Your sorted string is \")\n",
    "for ele in items:\n",
    "    print(ele)"
   ]
  },
  {
   "cell_type": "code",
   "execution_count": 9,
   "id": "1174c6c8",
   "metadata": {},
   "outputs": [
    {
     "name": "stdout",
     "output_type": "stream",
     "text": [
      "enter string: \"i love this course!!!!. it is the best###\"\n",
      "The string after removing punctuation:  i love this course it is the best\n"
     ]
    }
   ],
   "source": [
    "#Question5: punctuation\n",
    "\n",
    "import re\n",
    " \n",
    "str1 =input('enter string: ')\n",
    " \n",
    "\n",
    "\n",
    "res = re.sub(r'[^\\w\\s]', '', str1)\n",
    " \n",
    "print('The string after removing punctuation: ', res)"
   ]
  },
  {
   "cell_type": "code",
   "execution_count": null,
   "id": "89905153",
   "metadata": {},
   "outputs": [],
   "source": []
  }
 ],
 "metadata": {
  "kernelspec": {
   "display_name": "Python 3",
   "language": "python",
   "name": "python3"
  },
  "language_info": {
   "codemirror_mode": {
    "name": "ipython",
    "version": 3
   },
   "file_extension": ".py",
   "mimetype": "text/x-python",
   "name": "python",
   "nbconvert_exporter": "python",
   "pygments_lexer": "ipython3",
   "version": "3.8.8"
  }
 },
 "nbformat": 4,
 "nbformat_minor": 5
}
