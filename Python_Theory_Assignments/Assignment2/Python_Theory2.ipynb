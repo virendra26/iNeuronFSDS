{
 "cells": [
  {
   "cell_type": "markdown",
   "id": "4d21c45d",
   "metadata": {},
   "source": [
    "##### 1.What are the two values of the Boolean data type? How do you write them?\n",
    "##### Ans:\n",
    "true and false\n",
    "\n",
    "We write them as TRUE FALSE"
   ]
  },
  {
   "cell_type": "markdown",
   "id": "3b2e7a82",
   "metadata": {},
   "source": [
    "##### 2.What are the three different types of Boolean operators?\n",
    "##### Ans:\n",
    "AND \n",
    "\n",
    "OR\n",
    "\n",
    "NOT"
   ]
  },
  {
   "cell_type": "markdown",
   "id": "8b18725c",
   "metadata": {},
   "source": [
    "##### 3. Make a list of each Boolean operator&#39;s truth tables (i.e. every possible combination of Boolean values for the operator and what it evaluate ).\n",
    "\n",
    "#### Ans:\n",
    "\n",
    "#### AND:                                            \n",
    "\n",
    "True AND True  = True               \n",
    "\n",
    "True AND False = False              \n",
    "\n",
    "False AND True = False      \n",
    "\n",
    "False AND False= False       \n",
    "\n",
    "#### OR: \n",
    "\n",
    "True OR True  = True  \n",
    "\n",
    "True OR False = True  \n",
    "\n",
    "False OR True = True\n",
    "\n",
    "False OR False= False\n",
    "\n",
    "#### NOT:\n",
    "NOT True= False\n",
    "\n",
    "NOT False = True"
   ]
  },
  {
   "cell_type": "code",
   "execution_count": null,
   "id": "c146e470",
   "metadata": {},
   "outputs": [],
   "source": [
    "4. What are the values of the following expressions?\n",
    "(5 > 4) and (3 == 5) : FALSE\n",
    "not (5 > 4) :FALSE\n",
    "(5 > 4) or (3 == 5) :TRUE\n",
    "not ((5 > 4) or (3 == 5)) :FALSE\n",
    "(True and True) and (True == False) : FALSE\n",
    "(not False) or (not True) :TRUE"
   ]
  },
  {
   "cell_type": "markdown",
   "id": "d05e9756",
   "metadata": {},
   "source": [
    "##### 5. What are the six comparison operators?\n",
    "##### Ans:\n",
    "Python has six comparison operators, which are as follows:\n",
    "\n",
    "Less than ( < )\n",
    "\n",
    "Less than or equal to (<=)\n",
    "\n",
    "Greater than (>)\n",
    "\n",
    "Greater than or equal to (>=)\n",
    "\n",
    "Equal to ( == )\n",
    "\n",
    "Not equal to ( != )"
   ]
  },
  {
   "cell_type": "markdown",
   "id": "bc3bc198",
   "metadata": {},
   "source": [
    "##### 6. How do you tell the difference between the equal to and assignment operators?Describe a condition and when you would use one.\n",
    "##### Ans: \n",
    "Equal to is used to check if a variable is equal to a certain value. Its a condition which can be True or False\n",
    "eg. a==10. here we are checking if a is equal to 10 or not\n",
    "\n",
    "Assignment is a statement. a=10 here we are assigning value 10 to variable a"
   ]
  },
  {
   "cell_type": "code",
   "execution_count": null,
   "id": "f3ca90ab",
   "metadata": {},
   "outputs": [],
   "source": [
    "#7. Identify the three blocks in this code:\n",
    "spam = 0\n",
    "if spam == 10:\n",
    "    print('eggs')    This block wont execute\n",
    "if spam > 5:\n",
    "    print('bacon')   This block wont execute\n",
    "else:\n",
    "    print('ham') \n",
    "    print('spam')    This block will execute\n",
    "    print('spam')\n",
    "\n",
    "## in the above code since spam=0 the third else condition will be true and it will print ham spam spam"
   ]
  },
  {
   "cell_type": "code",
   "execution_count": null,
   "id": "d82fb9af",
   "metadata": {},
   "outputs": [],
   "source": [
    "### 8.\n",
    "\n",
    "spam=1\n",
    "if spam==1:\n",
    "    print('Hello')\n",
    "elif spam==2:\n",
    "    print('Howdy')\n",
    "else:\n",
    "    print('Greetings!')"
   ]
  },
  {
   "cell_type": "markdown",
   "id": "c324e078",
   "metadata": {},
   "source": [
    "##### 9.If your programme is stuck in an endless loop, what keys you’ll press?\n",
    "##### Ans:\n",
    "We can terminate the kernal i.e. keyboard interuppt\n",
    "\n",
    "We can also use Ctrl+C"
   ]
  },
  {
   "cell_type": "markdown",
   "id": "3cf4cf25",
   "metadata": {},
   "source": [
    "##### 10 Difference between break and continue\n",
    "##### Ans:\n",
    "The main difference between both the statements is that when break keyword comes, it terminates the execution of the current loop and passes the control over the next loop or main body, whereas when continue keyword is encountered, it skips the current iteration and executes the very next iteration in the loop."
   ]
  },
  {
   "cell_type": "markdown",
   "id": "3696e8ca",
   "metadata": {},
   "source": [
    "##### 11.In a for loop, what is the difference between range(10), range(0, 10), and range(0, 10, 1)? \n",
    "##### Ans:\n",
    "In for loop there is actually no difference between range(10) range(0,10) and range(0,10,1)\n",
    "All of them will have value from 0 to 9"
   ]
  },
  {
   "cell_type": "code",
   "execution_count": 7,
   "id": "3fd074f6",
   "metadata": {},
   "outputs": [
    {
     "name": "stdout",
     "output_type": "stream",
     "text": [
      "1\n",
      "2\n",
      "3\n",
      "4\n",
      "5\n",
      "6\n",
      "7\n",
      "8\n",
      "9\n",
      "10\n"
     ]
    }
   ],
   "source": [
    "###Q12. part 1\n",
    "for i in range(1,11):\n",
    "    print(i)"
   ]
  },
  {
   "cell_type": "code",
   "execution_count": 8,
   "id": "26e9916c",
   "metadata": {},
   "outputs": [
    {
     "name": "stdout",
     "output_type": "stream",
     "text": [
      "1\n",
      "2\n",
      "3\n",
      "4\n",
      "5\n",
      "6\n",
      "7\n",
      "8\n",
      "9\n",
      "10\n"
     ]
    }
   ],
   "source": [
    "### Q12 part 2\n",
    "num=1\n",
    "while(num<11):\n",
    "    print(num)\n",
    "    num=num+1"
   ]
  },
  {
   "cell_type": "markdown",
   "id": "31b719b1",
   "metadata": {},
   "source": [
    "##### 13. If you had a function named bacon() inside a module named spam, how would you call it after importing spam?\n",
    "##### Ans:\n",
    "spam.bacon()"
   ]
  },
  {
   "cell_type": "code",
   "execution_count": null,
   "id": "ace77bf8",
   "metadata": {},
   "outputs": [],
   "source": []
  }
 ],
 "metadata": {
  "kernelspec": {
   "display_name": "Python 3",
   "language": "python",
   "name": "python3"
  },
  "language_info": {
   "codemirror_mode": {
    "name": "ipython",
    "version": 3
   },
   "file_extension": ".py",
   "mimetype": "text/x-python",
   "name": "python",
   "nbconvert_exporter": "python",
   "pygments_lexer": "ipython3",
   "version": "3.8.8"
  }
 },
 "nbformat": 4,
 "nbformat_minor": 5
}
