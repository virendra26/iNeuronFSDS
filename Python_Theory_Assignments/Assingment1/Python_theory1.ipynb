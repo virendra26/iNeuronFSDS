{
 "cells": [
  {
   "cell_type": "code",
   "execution_count": null,
   "id": "e0bee00c",
   "metadata": {},
   "outputs": [],
   "source": [
    "##### Question 1\n",
    "1. In the below elements which of them are values or an expression? eg:- values can be\n",
    "integer or string and expressions will be mathematical operators.\n",
    "\n",
    "* : expression\n",
    "\n",
    "'hello':value\n",
    "\n",
    "-87.8: value\n",
    "\n",
    "- :expression\n",
    "\n",
    "/ :expression\n",
    "\n",
    "+ : expression\n",
    "\n",
    "6 :value"
   ]
  },
  {
   "cell_type": "markdown",
   "id": "7c2a2940",
   "metadata": {},
   "source": [
    "##### Question2: What is the difference between string and variable?\n",
    "###### Ans: \n",
    "Variable is used to store data. String is actually a type of a variable which stores alphanumeric values.\n"
   ]
  },
  {
   "cell_type": "markdown",
   "id": "7a9feb99",
   "metadata": {},
   "source": [
    "##### Q.3 Describe three different data types.\n",
    "#### Ans: \n",
    "1.Integer: These describe whole numbers like 2,3,4 etc \n",
    "\n",
    "2.Float: these decribe numbers with decimal points 2.3, 55.7 etc \n",
    "\n",
    "3.Boolean: these represent logical values. TRUE and FALSE"
   ]
  },
  {
   "cell_type": "markdown",
   "id": "910d793c",
   "metadata": {},
   "source": [
    "###### Q4: What is an expression made up of? What do all expressions do?\n",
    "###### Ans: \n",
    "In python expressions are made up of operators and operands. Operators like * / + - etc. We use expression with operators and \n",
    "\n",
    "operands to produce some new value. There are certain rules that govern while evaluating any expression. We also have different \n",
    "\n",
    "types of expressions like arithmatic expression,relational expressions, constant expression etc"
   ]
  },
  {
   "cell_type": "markdown",
   "id": "8fce7f67",
   "metadata": {},
   "source": [
    "##### Q.5 This assignment statements, like spam = 10. What is the difference between an expression and a statement?\n",
    "##### Ans: \n",
    "Statements represent an action or command e.g print statements, assignment statements.\n",
    "print('hello  world')\n",
    "spam=10  etc.\n",
    "\n",
    "\n",
    "\n",
    "Expression is a combination of variables, operations and values that yields a result value.\n",
    "\n",
    "eg. 1+5=6 this is an expression\n"
   ]
  },
  {
   "cell_type": "markdown",
   "id": "63a2aef3",
   "metadata": {},
   "source": [
    "##### Q6. After running the following code, what does the variable bacon contain? bacon = 22 bacon + 1\n",
    "##### Ans: \n",
    "bacon=23\n"
   ]
  },
  {
   "cell_type": "markdown",
   "id": "865bb9d4",
   "metadata": {},
   "source": [
    "##### Q7.What should the values of the following two terms be?\n",
    "'spam'+'spamspam'\n",
    "\n",
    "'spam'*3\n",
    "##### Ans:\n",
    "spamspamspam\n",
    "\n",
    "spamspamspam"
   ]
  },
  {
   "cell_type": "markdown",
   "id": "03dc8234",
   "metadata": {},
   "source": [
    "##### Q8. Why is eggs a valid variable name while 100 is invalid?\n",
    "##### Ans:\n",
    "In python a variable can not start with a digit hence 100 is invalid but eggs is valid"
   ]
  },
  {
   "cell_type": "markdown",
   "id": "37fd0c1b",
   "metadata": {},
   "source": [
    "##### Q9. What three functions can be used to get the integer, floating-point number, or string version of a value?\n",
    "##### Ans:\n",
    "for interger version use : int(value)\n",
    "\n",
    "for floating version use : float(value)\n",
    "\n",
    "for string version use   : str(value)\n",
    "\n",
    "These are inbuilt python functions"
   ]
  },
  {
   "cell_type": "markdown",
   "id": "ac2d6044",
   "metadata": {},
   "source": [
    "##### 10. Why does this expression cause an error? How can you fix it? \n",
    "'I have eaten'+ 99 +'burritos'\n",
    "##### Ans:\n",
    "In above expression we are trying to add string, integer and string types which wont work. For that we need to convert 99 which \n",
    "\n",
    "is interger into string type. When we do 'I have eaten'+ '99' +'burritos' it will work properly and give 'I have eaten 99   \n",
    "\n",
    "burritos' as answer"
   ]
  },
  {
   "cell_type": "code",
   "execution_count": null,
   "id": "6aadf374",
   "metadata": {},
   "outputs": [],
   "source": []
  }
 ],
 "metadata": {
  "kernelspec": {
   "display_name": "Python 3",
   "language": "python",
   "name": "python3"
  },
  "language_info": {
   "codemirror_mode": {
    "name": "ipython",
    "version": 3
   },
   "file_extension": ".py",
   "mimetype": "text/x-python",
   "name": "python",
   "nbconvert_exporter": "python",
   "pygments_lexer": "ipython3",
   "version": "3.8.8"
  }
 },
 "nbformat": 4,
 "nbformat_minor": 5
}
